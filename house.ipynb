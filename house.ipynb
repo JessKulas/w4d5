{
 "cells": [
  {
   "cell_type": "code",
   "execution_count": 7,
   "id": "e6ee124a",
   "metadata": {},
   "outputs": [],
   "source": [
    "class Bigger_Pockets():\n",
    "    def __init__(self, income, expenses, cash_in, roi):\n",
    "        self.income = income\n",
    "        self.expenses = expenses\n",
    "        #self.cash_flow = cash_flow\n",
    "        self.cash_in = cash_in\n",
    "        self.roi = roi\n",
    "\n",
    "class House:\n",
    "    def __init__(self):\n",
    "        self.rental = []\n",
    "        \n",
    "        \n",
    "    def print_rental(self):\n",
    "        print(\"=~\" * 15)\n",
    "        print(\"RENTAL INFORMATION:\")\n",
    "        \n",
    "        for rental in self.rental:\n",
    "            print(rental.income, rental.expenses, rental.cash_in, rental.roi)\n",
    "            #print(yearly_takeaway = int(input(multiply(cash_flow * 12)))\n",
    "            #print(cash_flow = int(input(sub(income - expenses))))\n",
    "            #print(gross_percent = int(input(divide(yearly_takeaway / cash_in))))\n",
    "                  \n",
    "        print(\"=~\" * 15)\n",
    "        \n",
    "    def run(self):\n",
    "        while True:\n",
    "            income = input(\"total income monthly: \")\n",
    "            expenses = input(\"total expenses monthly: \")\n",
    "            cash_in = input(\"total cash put in property: \")\n",
    "            \n",
    "            roi = input(\"show info?(yes/no): \") #### annual cash flow divided by cash in\n",
    "            \n",
    "            self.add_rental(income, expenses, cash_in, roi)\n",
    "                    \n",
    "            cont = input(\"would you like to 'show data', or 'restart'? \")\n",
    "    \n",
    "            if cont == 'show data':\n",
    "                print(self.rental)\n",
    "                break\n",
    "            if cont == 'restart':\n",
    "                income = input(\"total income monthly: \")\n",
    "                expenses = input(\"total expenses monthly: \")\n",
    "                cash_in = input(\"total cash put in property: \")\n",
    "                roi = input(\"Is it a series?(yes/no): \") #### annual cash flow divided by cash in\n",
    "            \n",
    "                self.add_rental(income, expenses, cash_in, roi)\n",
    "\n",
    "                        \n",
    "                cont = input(\"would you like to 'show data', or 'restart'? \")\n",
    "                if cont == 'show data':\n",
    "                    print(self.rental)\n",
    "                    break\n",
    "            \n",
    "                if cont == 'n':\n",
    "                    break\n",
    "                \n",
    "\n",
    "                \n",
    "        self.print_rental()"
   ]
  },
  {
   "cell_type": "code",
   "execution_count": null,
   "id": "fcf0459e",
   "metadata": {},
   "outputs": [
    {
     "name": "stdout",
     "output_type": "stream",
     "text": [
      "total income monthly: 2500\n",
      "total expenses monthly: 1800\n",
      "total cash put in property: 60000\n"
     ]
    }
   ],
   "source": [
    "my_rental = House()\n",
    "my_rental.run()"
   ]
  },
  {
   "cell_type": "code",
   "execution_count": null,
   "id": "af685a8b",
   "metadata": {},
   "outputs": [],
   "source": []
  },
  {
   "cell_type": "code",
   "execution_count": null,
   "id": "975f7c98",
   "metadata": {},
   "outputs": [],
   "source": []
  }
 ],
 "metadata": {
  "kernelspec": {
   "display_name": "Python 3.10.5 64-bit",
   "language": "python",
   "name": "python3"
  },
  "language_info": {
   "codemirror_mode": {
    "name": "ipython",
    "version": 3
   },
   "file_extension": ".py",
   "mimetype": "text/x-python",
   "name": "python",
   "nbconvert_exporter": "python",
   "pygments_lexer": "ipython3",
   "version": "3.10.5"
  },
  "vscode": {
   "interpreter": {
    "hash": "135e52b540fea9e13eb8bd788116ed1c17c5802e4ed34ec2da12fc231a141e2f"
   }
  }
 },
 "nbformat": 4,
 "nbformat_minor": 5
}
